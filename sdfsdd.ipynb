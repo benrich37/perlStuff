{
 "cells": [
  {
   "cell_type": "code",
   "execution_count": 3,
   "id": "2ee8001d",
   "metadata": {},
   "outputs": [],
   "source": [
    "from pymatgen.io.jdftx.outputs import JDFTXOutputs\n",
    "from crawfish.core.elecdata import ElecData\n",
    "outputs = JDFTXOutputs.from_calc_dir(r\"/Volumes/Ext4TB/scratch_backup/perl/PC3_Gr_sps/PC3_Gr/no_V/HCO_v2/ion_opt\", store_vars=[\"bandstructure\", \"bandProjections\"])\n",
    "bandstructure = outputs.bandstructure\n",
    "edata = ElecData.from_calc_dir(r\"/Volumes/Ext4TB/scratch_backup/perl/PC3_Gr_sps/PC3_Gr/no_V/HCO_v2/ion_opt\")"
   ]
  },
  {
   "cell_type": "code",
   "execution_count": 6,
   "id": "16bca271",
   "metadata": {},
   "outputs": [
    {
     "data": {
      "text/plain": [
       "False"
      ]
     },
     "execution_count": 6,
     "metadata": {},
     "output_type": "execute_result"
    }
   ],
   "source": [
    "bandstructure.is_metal()"
   ]
  },
  {
   "cell_type": "code",
   "execution_count": null,
   "id": "e1d93c82",
   "metadata": {},
   "outputs": [],
   "source": []
  }
 ],
 "metadata": {
  "kernelspec": {
   "display_name": "research",
   "language": "python",
   "name": "python3"
  },
  "language_info": {
   "codemirror_mode": {
    "name": "ipython",
    "version": 3
   },
   "file_extension": ".py",
   "mimetype": "text/x-python",
   "name": "python",
   "nbconvert_exporter": "python",
   "pygments_lexer": "ipython3",
   "version": "3.12.9"
  }
 },
 "nbformat": 4,
 "nbformat_minor": 5
}
