{
 "cells": [
  {
   "cell_type": "code",
   "execution_count": 1,
   "id": "1a43b165",
   "metadata": {},
   "outputs": [],
   "source": [
    "from pathlib import Path\n",
    "from pymatgen.io.jdftx.inputs import JDFTXInfile\n",
    "from ase.calculators.calculator import (\n",
    "    Parameters\n",
    ")\n",
    "calc_dir = Path(r\"/Users/richb/Desktop/run_local/H2_opt\")\n",
    "infile = JDFTXInfile.from_file(calc_dir /  \"in\")\n",
    "\n",
    "params = Parameters(infile.as_dict())"
   ]
  },
  {
   "cell_type": "code",
   "execution_count": 4,
   "id": "15a22a25",
   "metadata": {},
   "outputs": [],
   "source": [
    "params.write(calc_dir / \"_params.ase\")"
   ]
  },
  {
   "cell_type": "code",
   "execution_count": 5,
   "id": "9eb5b330",
   "metadata": {},
   "outputs": [],
   "source": [
    "params2 = Parameters.read(calc_dir / \"_params.ase\")"
   ]
  },
  {
   "cell_type": "code",
   "execution_count": 6,
   "id": "27fa113d",
   "metadata": {},
   "outputs": [],
   "source": [
    "infile2 = JDFTXInfile.from_dict(params2)"
   ]
  },
  {
   "cell_type": "code",
   "execution_count": null,
   "id": "8af4c084",
   "metadata": {},
   "outputs": [],
   "source": []
  }
 ],
 "metadata": {
  "kernelspec": {
   "display_name": "research",
   "language": "python",
   "name": "python3"
  },
  "language_info": {
   "codemirror_mode": {
    "name": "ipython",
    "version": 3
   },
   "file_extension": ".py",
   "mimetype": "text/x-python",
   "name": "python",
   "nbconvert_exporter": "python",
   "pygments_lexer": "ipython3",
   "version": "3.12.9"
  }
 },
 "nbformat": 4,
 "nbformat_minor": 5
}
